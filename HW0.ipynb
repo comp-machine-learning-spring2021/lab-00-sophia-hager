{
 "cells": [
  {
   "cell_type": "code",
   "execution_count": 1,
   "id": "domestic-bahrain",
   "metadata": {},
   "outputs": [
    {
     "name": "stdout",
     "output_type": "stream",
     "text": [
      "This is the first code cell!\n"
     ]
    }
   ],
   "source": [
    "print(\"This is the first code cell!\")"
   ]
  },
  {
   "cell_type": "code",
   "execution_count": 4,
   "id": "opened-taylor",
   "metadata": {},
   "outputs": [
    {
     "name": "stdout",
     "output_type": "stream",
     "text": [
      "0\n",
      "5\n",
      "10\n",
      "15\n",
      "20\n",
      "25\n"
     ]
    }
   ],
   "source": [
    "x = [0,1,2,3,4,5]\n",
    "for i in x:\n",
    "    print(i*5)"
   ]
  },
  {
   "cell_type": "markdown",
   "id": "adult-cattle",
   "metadata": {},
   "source": [
    "I wish I remembered "
   ]
  },
  {
   "cell_type": "code",
   "execution_count": 17,
   "id": "latest-credits",
   "metadata": {},
   "outputs": [
    {
     "name": "stdout",
     "output_type": "stream",
     "text": [
      "\n",
      "This is number 1 \n",
      "This is number 2 This is number 2 \n",
      "This is number 3 This is number 3 This is number 3 \n",
      "This is number 4 This is number 4 This is number 4 This is number 4 \n",
      "This is number 5 This is number 5 This is number 5 This is number 5 This is number 5 \n"
     ]
    }
   ],
   "source": [
    "for i in x:\n",
    "    y=(\"This is number \"+ str(i)+ \" \")\n",
    "    print(y*i)\n"
   ]
  },
  {
   "cell_type": "markdown",
   "id": "demonstrated-edinburgh",
   "metadata": {},
   "source": [
    "This is a markdown cell."
   ]
  }
 ],
 "metadata": {
  "kernelspec": {
   "display_name": "Python 3",
   "language": "python",
   "name": "python3"
  },
  "language_info": {
   "codemirror_mode": {
    "name": "ipython",
    "version": 3
   },
   "file_extension": ".py",
   "mimetype": "text/x-python",
   "name": "python",
   "nbconvert_exporter": "python",
   "pygments_lexer": "ipython3",
   "version": "3.8.5"
  }
 },
 "nbformat": 4,
 "nbformat_minor": 5
}
